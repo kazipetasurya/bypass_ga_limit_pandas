{
 "cells": [
  {
   "cell_type": "code",
   "execution_count": null,
   "metadata": {
    "collapsed": true
   },
   "outputs": [],
   "source": [
    "from google2pandas import *\n",
    "import pandas as pd"
   ]
  },
  {
   "cell_type": "markdown",
   "metadata": {},
   "source": [
    "Connection to your Google Analytics account. [More info on the setup](https://developers.google.com/analytics/devguides/reporting/core/v3/quickstart/installed-py)"
   ]
  },
  {
   "cell_type": "code",
   "execution_count": 2,
   "metadata": {
    "collapsed": true
   },
   "outputs": [],
   "source": [
    "conn = GoogleAnalyticsQuery(token_file_name='analytics.dat', secrets='client_secrets.json')"
   ]
  },
  {
   "cell_type": "markdown",
   "metadata": {},
   "source": [
    "Input the start and end dates of the data you're interested in."
   ]
  },
  {
   "cell_type": "code",
   "execution_count": 3,
   "metadata": {
    "collapsed": true
   },
   "outputs": [],
   "source": [
    "start_date = '06/12/2017'\n",
    "end_date = '09/02/2018'"
   ]
  },
  {
   "cell_type": "markdown",
   "metadata": {},
   "source": [
    "Code snippet to query the required data through the GA API. \n",
    "1. Input the values of [dimensions, metrics](https://developers.google.com/analytics/devguides/reporting/core/dimsmets), [filters](https://developers.google.com/analytics/devguides/reporting/core/v3/reference#filters) and [segments](https://developers.google.com/analytics/devguides/reporting/core/v3/reference#segment) of interest.\n",
    "2. results_per_query is set to a max of 10000 rows by the API, while the total_results can be tweaked to get the number of rows of your choice."
   ]
  },
  {
   "cell_type": "code",
   "execution_count": 11,
   "metadata": {
    "collapsed": true
   },
   "outputs": [],
   "source": [
    "df = pd.DataFrame()\n",
    "total_results=10000000\n",
    "results_per_query=10000\n",
    "for date in pd.date_range(pd.to_datetime(start_date, format='%d/%m/%Y'), pd.to_datetime(end_date, format='%d/%m/%Y')) :  \n",
    "    for index in range(0, total_results, results_per_query):\n",
    "        query_web = {\\\n",
    "            'ids'           : 'ga:xxxxx',\n",
    "            'metrics'       : ['ga:metric1', 'ga:metric2'],\n",
    "            'dimensions'    : ['ga:dimension1', 'ga:dimension2'],\n",
    "            'start_date'    : str(date),\n",
    "            'end_date'      : str(date),\n",
    "            'filters'       : 'ga:previousPagePath=~index|^home',\n",
    "            'max_results'   : 10000,\n",
    "            'samplingLevel' : 'HIGHER_PRECISION',\n",
    "            'start_index'   : str(index+1)\n",
    "        }\n",
    "        df_temp = pd.DataFrame()\n",
    "        df_temp, metadata = conn.execute_query(**query_web)\n",
    "        if df_temp.shape[0] == 0 : \n",
    "            break\n",
    "        #df_temp['date'] = str(date)\n",
    "        df = df.append(df_temp,ignore_index=True)\n",
    "        print (\"Fetched rows from {0} to {1}\".format(index+1, index+results_per_query))"
   ]
  }
 ],
 "metadata": {
  "kernelspec": {
   "display_name": "Python 3",
   "language": "python",
   "name": "python3"
  },
  "language_info": {
   "codemirror_mode": {
    "name": "ipython",
    "version": 3
   },
   "file_extension": ".py",
   "mimetype": "text/x-python",
   "name": "python",
   "nbconvert_exporter": "python",
   "pygments_lexer": "ipython3",
   "version": "3.6.3"
  }
 },
 "nbformat": 4,
 "nbformat_minor": 2
}
